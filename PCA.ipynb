{
 "cells": [
  {
   "cell_type": "code",
   "execution_count": 1,
   "id": "858e708b-db8b-45c9-8b1c-5b60c9df6084",
   "metadata": {},
   "outputs": [],
   "source": [
    "import numpy as np\n",
    "import pandas as pd\n",
    "import matplotlib.pyplot as plt\n",
    "from sklearn.decomposition import PCA\n",
    "from sklearn.preprocessing import StandardScaler\n",
    "from sklearn import metrics\n",
    "from sklearn.model_selection import train_test_split\n",
    "import cv2\n",
    "import os\n",
    "from skimage.feature import hog\n",
    "from skimage import io, color\n",
    "import skimage.io\n",
    "from sklearn.preprocessing import LabelEncoder, OneHotEncoder\n",
    "from skimage.color import rgb2gray"
   ]
  },
  {
   "cell_type": "code",
   "execution_count": 2,
   "id": "89d6be29-854a-4f6a-81d5-6b4bd8296f2f",
   "metadata": {},
   "outputs": [],
   "source": [
    "df = pd.read_csv('Data/chinese_mnist/chinese_mnist.csv')"
   ]
  },
  {
   "cell_type": "code",
   "execution_count": 3,
   "id": "b532d54a-f28b-4dba-b9f6-a085065159d3",
   "metadata": {},
   "outputs": [
    {
     "data": {
      "text/html": [
       "<div>\n",
       "<style scoped>\n",
       "    .dataframe tbody tr th:only-of-type {\n",
       "        vertical-align: middle;\n",
       "    }\n",
       "\n",
       "    .dataframe tbody tr th {\n",
       "        vertical-align: top;\n",
       "    }\n",
       "\n",
       "    .dataframe thead th {\n",
       "        text-align: right;\n",
       "    }\n",
       "</style>\n",
       "<table border=\"1\" class=\"dataframe\">\n",
       "  <thead>\n",
       "    <tr style=\"text-align: right;\">\n",
       "      <th></th>\n",
       "      <th>suite_id</th>\n",
       "      <th>sample_id</th>\n",
       "      <th>code</th>\n",
       "      <th>value</th>\n",
       "      <th>character</th>\n",
       "    </tr>\n",
       "  </thead>\n",
       "  <tbody>\n",
       "    <tr>\n",
       "      <th>0</th>\n",
       "      <td>1</td>\n",
       "      <td>1</td>\n",
       "      <td>10</td>\n",
       "      <td>9</td>\n",
       "      <td>九</td>\n",
       "    </tr>\n",
       "    <tr>\n",
       "      <th>1</th>\n",
       "      <td>1</td>\n",
       "      <td>10</td>\n",
       "      <td>10</td>\n",
       "      <td>9</td>\n",
       "      <td>九</td>\n",
       "    </tr>\n",
       "    <tr>\n",
       "      <th>2</th>\n",
       "      <td>1</td>\n",
       "      <td>2</td>\n",
       "      <td>10</td>\n",
       "      <td>9</td>\n",
       "      <td>九</td>\n",
       "    </tr>\n",
       "    <tr>\n",
       "      <th>3</th>\n",
       "      <td>1</td>\n",
       "      <td>3</td>\n",
       "      <td>10</td>\n",
       "      <td>9</td>\n",
       "      <td>九</td>\n",
       "    </tr>\n",
       "    <tr>\n",
       "      <th>4</th>\n",
       "      <td>1</td>\n",
       "      <td>4</td>\n",
       "      <td>10</td>\n",
       "      <td>9</td>\n",
       "      <td>九</td>\n",
       "    </tr>\n",
       "  </tbody>\n",
       "</table>\n",
       "</div>"
      ],
      "text/plain": [
       "   suite_id  sample_id  code  value character\n",
       "0         1          1    10      9         九\n",
       "1         1         10    10      9         九\n",
       "2         1          2    10      9         九\n",
       "3         1          3    10      9         九\n",
       "4         1          4    10      9         九"
      ]
     },
     "execution_count": 3,
     "metadata": {},
     "output_type": "execute_result"
    }
   ],
   "source": [
    "df.head()"
   ]
  },
  {
   "cell_type": "code",
   "execution_count": 4,
   "id": "34d27211-7e06-46e3-8625-d1a125c8002c",
   "metadata": {},
   "outputs": [
    {
     "name": "stdout",
     "output_type": "stream",
     "text": [
      "<class 'pandas.core.frame.DataFrame'>\n",
      "RangeIndex: 15000 entries, 0 to 14999\n",
      "Data columns (total 5 columns):\n",
      " #   Column     Non-Null Count  Dtype \n",
      "---  ------     --------------  ----- \n",
      " 0   suite_id   15000 non-null  int64 \n",
      " 1   sample_id  15000 non-null  int64 \n",
      " 2   code       15000 non-null  int64 \n",
      " 3   value      15000 non-null  int64 \n",
      " 4   character  15000 non-null  object\n",
      "dtypes: int64(4), object(1)\n",
      "memory usage: 586.1+ KB\n"
     ]
    }
   ],
   "source": [
    "df.info()"
   ]
  },
  {
   "cell_type": "code",
   "execution_count": 5,
   "id": "42e16a0c-da43-49f8-81b6-c461a2c62a74",
   "metadata": {},
   "outputs": [
    {
     "data": {
      "text/plain": [
       "(15000, 5)"
      ]
     },
     "execution_count": 5,
     "metadata": {},
     "output_type": "execute_result"
    }
   ],
   "source": [
    "df.shape"
   ]
  },
  {
   "cell_type": "code",
   "execution_count": 6,
   "id": "bd3e7b7d-1e81-4d63-b388-b32e8fa6557f",
   "metadata": {},
   "outputs": [
    {
     "data": {
      "text/plain": [
       "value      character\n",
       "0          零            1000\n",
       "1          一            1000\n",
       "2          二            1000\n",
       "3          三            1000\n",
       "4          四            1000\n",
       "5          五            1000\n",
       "6          六            1000\n",
       "7          七            1000\n",
       "8          八            1000\n",
       "9          九            1000\n",
       "10         十            1000\n",
       "100        百            1000\n",
       "1000       千            1000\n",
       "10000      万            1000\n",
       "100000000  亿            1000\n",
       "dtype: int64"
      ]
     },
     "execution_count": 6,
     "metadata": {},
     "output_type": "execute_result"
    }
   ],
   "source": [
    "df.groupby([\"value\",\"character\"]).size()"
   ]
  },
  {
   "cell_type": "code",
   "execution_count": 7,
   "id": "ed24f764-f482-4c38-a091-dd9c04f8d236",
   "metadata": {},
   "outputs": [
    {
     "data": {
      "text/plain": [
       "suite_id     0\n",
       "sample_id    0\n",
       "code         0\n",
       "value        0\n",
       "character    0\n",
       "dtype: int64"
      ]
     },
     "execution_count": 7,
     "metadata": {},
     "output_type": "execute_result"
    }
   ],
   "source": [
    "df.isnull().sum()"
   ]
  },
  {
   "cell_type": "code",
   "execution_count": 8,
   "id": "6b60ba2e-342e-4a4f-bf5e-b1bb444b987c",
   "metadata": {},
   "outputs": [
    {
     "name": "stdout",
     "output_type": "stream",
     "text": [
      "Number of image files: 15000\n"
     ]
    }
   ],
   "source": [
    "image_files = list(os.listdir(\"Data/chinese_mnist/data/data\"))\n",
    "print(\"Number of image files: {}\".format(len(image_files)))"
   ]
  },
  {
   "cell_type": "code",
   "execution_count": 9,
   "id": "39356a02-38c6-4592-8e6f-5f050431a0fe",
   "metadata": {},
   "outputs": [],
   "source": [
    "def create_image_file_name(x):\n",
    "    file_name = f\"input_{x[0]}_{x[1]}_{x[2]}.jpg\"\n",
    "    return file_name"
   ]
  },
  {
   "cell_type": "code",
   "execution_count": 10,
   "id": "c43b37f5-e588-4b97-b78e-b320d856d5dd",
   "metadata": {},
   "outputs": [],
   "source": [
    "df[\"image_file\"] = df.apply(create_image_file_name, axis=1)"
   ]
  },
  {
   "cell_type": "code",
   "execution_count": 11,
   "id": "450d2b06-42b6-48b2-b270-5263ec05609a",
   "metadata": {},
   "outputs": [],
   "source": [
    "def image_sizes(file_name):\n",
    "    image = skimage.io.imread(\"Data/chinese_mnist/data/data/\" + file_name)\n",
    "    return list(image.shape)"
   ]
  },
  {
   "cell_type": "code",
   "execution_count": 12,
   "id": "ff1ab9e7-c175-4062-8f7f-28c4ec606f11",
   "metadata": {},
   "outputs": [
    {
     "data": {
      "text/html": [
       "<div>\n",
       "<style scoped>\n",
       "    .dataframe tbody tr th:only-of-type {\n",
       "        vertical-align: middle;\n",
       "    }\n",
       "\n",
       "    .dataframe tbody tr th {\n",
       "        vertical-align: top;\n",
       "    }\n",
       "\n",
       "    .dataframe thead th {\n",
       "        text-align: right;\n",
       "    }\n",
       "</style>\n",
       "<table border=\"1\" class=\"dataframe\">\n",
       "  <thead>\n",
       "    <tr style=\"text-align: right;\">\n",
       "      <th></th>\n",
       "      <th>suite_id</th>\n",
       "      <th>sample_id</th>\n",
       "      <th>code</th>\n",
       "      <th>value</th>\n",
       "      <th>character</th>\n",
       "      <th>image_file</th>\n",
       "      <th>w</th>\n",
       "      <th>h</th>\n",
       "    </tr>\n",
       "  </thead>\n",
       "  <tbody>\n",
       "    <tr>\n",
       "      <th>0</th>\n",
       "      <td>1</td>\n",
       "      <td>1</td>\n",
       "      <td>10</td>\n",
       "      <td>9</td>\n",
       "      <td>九</td>\n",
       "      <td>input_1_1_10.jpg</td>\n",
       "      <td>64</td>\n",
       "      <td>64</td>\n",
       "    </tr>\n",
       "    <tr>\n",
       "      <th>1</th>\n",
       "      <td>1</td>\n",
       "      <td>10</td>\n",
       "      <td>10</td>\n",
       "      <td>9</td>\n",
       "      <td>九</td>\n",
       "      <td>input_1_10_10.jpg</td>\n",
       "      <td>64</td>\n",
       "      <td>64</td>\n",
       "    </tr>\n",
       "    <tr>\n",
       "      <th>2</th>\n",
       "      <td>1</td>\n",
       "      <td>2</td>\n",
       "      <td>10</td>\n",
       "      <td>9</td>\n",
       "      <td>九</td>\n",
       "      <td>input_1_2_10.jpg</td>\n",
       "      <td>64</td>\n",
       "      <td>64</td>\n",
       "    </tr>\n",
       "    <tr>\n",
       "      <th>3</th>\n",
       "      <td>1</td>\n",
       "      <td>3</td>\n",
       "      <td>10</td>\n",
       "      <td>9</td>\n",
       "      <td>九</td>\n",
       "      <td>input_1_3_10.jpg</td>\n",
       "      <td>64</td>\n",
       "      <td>64</td>\n",
       "    </tr>\n",
       "    <tr>\n",
       "      <th>4</th>\n",
       "      <td>1</td>\n",
       "      <td>4</td>\n",
       "      <td>10</td>\n",
       "      <td>9</td>\n",
       "      <td>九</td>\n",
       "      <td>input_1_4_10.jpg</td>\n",
       "      <td>64</td>\n",
       "      <td>64</td>\n",
       "    </tr>\n",
       "  </tbody>\n",
       "</table>\n",
       "</div>"
      ],
      "text/plain": [
       "   suite_id  sample_id  code  value character         image_file   w   h\n",
       "0         1          1    10      9         九   input_1_1_10.jpg  64  64\n",
       "1         1         10    10      9         九  input_1_10_10.jpg  64  64\n",
       "2         1          2    10      9         九   input_1_2_10.jpg  64  64\n",
       "3         1          3    10      9         九   input_1_3_10.jpg  64  64\n",
       "4         1          4    10      9         九   input_1_4_10.jpg  64  64"
      ]
     },
     "execution_count": 12,
     "metadata": {},
     "output_type": "execute_result"
    }
   ],
   "source": [
    "image_size = np.stack(df['image_file'].apply(image_sizes))\n",
    "image_size_df = pd.DataFrame(image_size,columns=['w','h'])\n",
    "data = pd.concat([df,image_size_df],axis=1, sort=False)\n",
    "data.head()"
   ]
  },
  {
   "cell_type": "code",
   "execution_count": 13,
   "id": "5f416927-7f46-4dca-bb03-e4ce790d7e4f",
   "metadata": {},
   "outputs": [
    {
     "name": "stdout",
     "output_type": "stream",
     "text": [
      "There are 15000 matching image names\n"
     ]
    }
   ],
   "source": [
    "file_names = list(data['image_file'])\n",
    "print(\"There are {} matching image names\".format(len(set(file_names).intersection(image_files))))"
   ]
  },
  {
   "cell_type": "code",
   "execution_count": 14,
   "id": "3ed24b1e-91fd-4f58-b442-49adb60d32b5",
   "metadata": {},
   "outputs": [
    {
     "name": "stdout",
     "output_type": "stream",
     "text": [
      "There are 0 duplicate rows present in the dataset\n"
     ]
    }
   ],
   "source": [
    "num_duplicates = data.duplicated().sum() #identify duplicates\n",
    "print('There are {} duplicate rows present in the dataset'.format(num_duplicates))"
   ]
  },
  {
   "cell_type": "code",
   "execution_count": 15,
   "id": "75a193b3-d3ff-49d4-bfc1-722548125995",
   "metadata": {},
   "outputs": [
    {
     "name": "stdout",
     "output_type": "stream",
     "text": [
      "Unique character values: [0, 1, 2, 3, 4, 5, 6, 7, 8, 9, 10, 100, 1000, 10000, 100000000]\n"
     ]
    }
   ],
   "source": [
    "char_value=sorted(data['value'].unique())\n",
    "print(\"Unique character values: {}\".format(char_value))"
   ]
  },
  {
   "cell_type": "code",
   "execution_count": 16,
   "id": "70f584b3-caa6-4933-a1a7-91bc5ab79b1e",
   "metadata": {},
   "outputs": [],
   "source": [
    "def read_image(image_file_name):\n",
    "    image = skimage.io.imread(\"Data/chinese_mnist/data/data/\" + image_file_name)\n",
    "    return image"
   ]
  },
  {
   "cell_type": "code",
   "execution_count": 17,
   "id": "b60c8223-01bd-47f1-8247-f9c1c8bfdbfe",
   "metadata": {},
   "outputs": [],
   "source": [
    "X = np.stack(df['image_file'].apply(read_image))\n",
    "y = df['value']"
   ]
  },
  {
   "cell_type": "code",
   "execution_count": 18,
   "id": "ecf6b7eb-e67c-4d27-b055-d11726ee45af",
   "metadata": {},
   "outputs": [
    {
     "data": {
      "image/png": "[encoded data removed]",
      "text/plain": [
       "<Figure size 1440x432 with 15 Axes>"
      ]
     },
     "metadata": {
      "needs_background": "light"
     },
     "output_type": "display_data"
    }
   ],
   "source": [
    "plt.figure(figsize=(20,6))\n",
    "\n",
    "for i,j in enumerate([6000,7000,8000,9000,10000,11000,12000,13000,14000,0,1000,2000,3000,4000,5000]):\n",
    "    plt.subplot(3,5,i+1)\n",
    "    plt.subplots_adjust(top = 2, bottom = 1)\n",
    "    img = X[j]\n",
    "    plt.imshow(img.reshape(64,64),cmap = 'gray')\n",
    "    plt.title(y[j])\n",
    "    plt.axis('off')\n",
    "plt.show()"
   ]
  },
  {
   "cell_type": "code",
   "execution_count": 19,
   "id": "d0f88280-fee0-419c-a23b-0268fee51b7b",
   "metadata": {},
   "outputs": [],
   "source": [
    "X_train, X_test, y_train, y_test = train_test_split(X, y, test_size=1/8, random_state=0)"
   ]
  },
  {
   "cell_type": "code",
   "execution_count": 20,
   "id": "232c3721-042a-498e-9adc-cdf5abaf2f8e",
   "metadata": {},
   "outputs": [
    {
     "data": {
      "text/plain": [
       "(13125, 64, 64)"
      ]
     },
     "execution_count": 20,
     "metadata": {},
     "output_type": "execute_result"
    }
   ],
   "source": [
    "X_train.shape"
   ]
  },
  {
   "cell_type": "code",
   "execution_count": 21,
   "id": "f31313ec-4708-4e84-abdc-bf957d698ea5",
   "metadata": {},
   "outputs": [
    {
     "data": {
      "text/plain": [
       "(1875, 64, 64)"
      ]
     },
     "execution_count": 21,
     "metadata": {},
     "output_type": "execute_result"
    }
   ],
   "source": [
    "X_test.shape"
   ]
  },
  {
   "cell_type": "code",
   "execution_count": 22,
   "id": "073a3976-8f2e-451b-bb3f-d14a4c0872ac",
   "metadata": {},
   "outputs": [],
   "source": [
    "X_train = X_train.reshape(13125, 4096)"
   ]
  },
  {
   "cell_type": "code",
   "execution_count": 23,
   "id": "c02bf46e-d1e2-4866-9ac4-8b1f95f1a683",
   "metadata": {},
   "outputs": [],
   "source": [
    "X_test = X_test.reshape(1875,4096)"
   ]
  },
  {
   "cell_type": "code",
   "execution_count": 24,
   "id": "c225c6f9-63fa-4a43-8f19-a0bc3b3dc703",
   "metadata": {},
   "outputs": [
    {
     "name": "stdout",
     "output_type": "stream",
     "text": [
      "X_train shape:  (13125, 4096)\n",
      "X_test shape:  (1875, 4096)\n"
     ]
    }
   ],
   "source": [
    "print('X_train shape: ', X_train.shape)\n",
    "print('X_test shape: ', X_test.shape)"
   ]
  },
  {
   "cell_type": "code",
   "execution_count": 25,
   "id": "8a12f234-1ea3-4272-8176-f54bda13e20c",
   "metadata": {},
   "outputs": [],
   "source": [
    "X_train = X_train/255.0\n",
    "X_test = X_test/255.0"
   ]
  },
  {
   "cell_type": "code",
   "execution_count": 26,
   "id": "24114ed6-683b-473d-be43-379719ceff28",
   "metadata": {},
   "outputs": [],
   "source": [
    "from sklearn.svm import SVC\n",
    "from datetime import datetime"
   ]
  },
  {
   "cell_type": "code",
   "execution_count": 27,
   "id": "fc26a67b-a2ad-4806-adbb-682e4871d52a",
   "metadata": {},
   "outputs": [],
   "source": [
    "# clf = SVC(kernel ='rbf')"
   ]
  },
  {
   "cell_type": "code",
   "execution_count": 28,
   "id": "a58eeb52-994c-46c6-9abe-925894554729",
   "metadata": {},
   "outputs": [],
   "source": [
    "clf = SVC(kernel=\"rbf\")"
   ]
  },
  {
   "cell_type": "code",
   "execution_count": 29,
   "id": "da899a23-7f51-4d31-a0aa-52ec508aaca9",
   "metadata": {},
   "outputs": [
    {
     "name": "stdout",
     "output_type": "stream",
     "text": [
      "Time taken to train the model:  0:09:40.873462\n"
     ]
    }
   ],
   "source": [
    "start = datetime.now()\n",
    "clf.fit(X_train, y_train)\n",
    "end = datetime.now()\n",
    "print('Time taken to train the model: ', end - start)"
   ]
  },
  {
   "cell_type": "code",
   "execution_count": 30,
   "id": "3d83de3b-3d88-4ae8-9e99-32631819d6f1",
   "metadata": {},
   "outputs": [
    {
     "name": "stdout",
     "output_type": "stream",
     "text": [
      "Accuracy on the training set:  0.8944\n",
      "Accuracy on the testing set:  0.744\n"
     ]
    }
   ],
   "source": [
    "print('Accuracy on the training set: ', clf.score(X_train, y_train))\n",
    "print('Accuracy on the testing set: ', clf.score(X_test, y_test))                                    "
   ]
  },
  {
   "cell_type": "markdown",
   "id": "5d079d3d-fe96-41f5-9bf9-7eca217048e5",
   "metadata": {},
   "source": [
    "## Use PCA to reduce the dimensionality of the data"
   ]
  },
  {
   "cell_type": "code",
   "execution_count": 31,
   "id": "aaa3872e-d0d9-4ca8-8513-d7ba8678afa2",
   "metadata": {},
   "outputs": [],
   "source": [
    "from sklearn.decomposition import PCA"
   ]
  },
  {
   "cell_type": "code",
   "execution_count": 32,
   "id": "8d991f02-23f3-4d89-a581-476cdd2b0490",
   "metadata": {},
   "outputs": [],
   "source": [
    "pca = PCA(0.9)"
   ]
  },
  {
   "cell_type": "code",
   "execution_count": 33,
   "id": "5d3e57a5-8a9e-4c7f-a9cb-c341296a760b",
   "metadata": {},
   "outputs": [],
   "source": [
    "X_train_pca = pca.fit_transform(X_train)"
   ]
  },
  {
   "cell_type": "code",
   "execution_count": 34,
   "id": "00def4d4-2387-43c9-a11e-36b83c6d15ee",
   "metadata": {},
   "outputs": [
    {
     "name": "stdout",
     "output_type": "stream",
     "text": [
      "X_train_pca shape:  (13125, 509)\n"
     ]
    }
   ],
   "source": [
    "print('X_train_pca shape: ', X_train_pca.shape)"
   ]
  },
  {
   "cell_type": "code",
   "execution_count": 35,
   "id": "658f9873-e3f3-42cb-9f33-d46ebdfa5f6d",
   "metadata": {},
   "outputs": [],
   "source": [
    "X_test_pca = pca.transform(X_test)"
   ]
  },
  {
   "cell_type": "code",
   "execution_count": 36,
   "id": "2833304d-10b4-40e7-b75b-1aff2f27cb6e",
   "metadata": {},
   "outputs": [
    {
     "name": "stdout",
     "output_type": "stream",
     "text": [
      "X_test_pca shape:  (1875, 509)\n"
     ]
    }
   ],
   "source": [
    "print('X_test_pca shape: ', X_test_pca.shape)"
   ]
  },
  {
   "cell_type": "code",
   "execution_count": 37,
   "id": "d78f1bc9-581b-42fe-99f0-ef3c449b864a",
   "metadata": {},
   "outputs": [],
   "source": [
    "clf = SVC(kernel='rbf')"
   ]
  },
  {
   "cell_type": "code",
   "execution_count": 38,
   "id": "9d968742-97a7-41a2-8f65-7acea4b993aa",
   "metadata": {},
   "outputs": [
    {
     "name": "stdout",
     "output_type": "stream",
     "text": [
      "Time taken to train the model:  0:01:25.382335\n"
     ]
    }
   ],
   "source": [
    "start = datetime.now()\n",
    "clf.fit(X_train_pca, y_train)\n",
    "end = datetime.now()\n",
    "print('Time taken to train the model: ', end - start)"
   ]
  },
  {
   "cell_type": "code",
   "execution_count": 39,
   "id": "e87dee12-5f9f-45df-afd3-5e36a3639df8",
   "metadata": {},
   "outputs": [
    {
     "name": "stdout",
     "output_type": "stream",
     "text": [
      "Accuracy on the training set:  0.9083428571428571\n",
      "Accuracy on the testing set:  0.7712\n"
     ]
    }
   ],
   "source": [
    "print('Accuracy on the training set: ', clf.score(X_train_pca, y_train))\n",
    "print('Accuracy on the testing set: ', clf.score(X_test_pca, y_test))                                    "
   ]
  },
  {
   "cell_type": "markdown",
   "id": "3ca74e5c-077f-419d-a05c-164b03925f5e",
   "metadata": {},
   "source": [
    "##### Comment:\n",
    "after using PCA, the accuracy is higher and time taken is also shorter"
   ]
  },
  {
   "cell_type": "code",
   "execution_count": null,
   "id": "f04d4c1e-96de-4be8-a283-9787866a98e9",
   "metadata": {},
   "outputs": [],
   "source": []
  }
 ],
 "metadata": {
  "kernelspec": {
   "display_name": "Python 3 (ipykernel)",
   "language": "python",
   "name": "python3"
  },
  "language_info": {
   "codemirror_mode": {
    "name": "ipython",
    "version": 3
   },
   "file_extension": ".py",
   "mimetype": "text/x-python",
   "name": "python",
   "nbconvert_exporter": "python",
   "pygments_lexer": "ipython3",
   "version": "3.8.9"
  }
 },
 "nbformat": 4,
 "nbformat_minor": 5
}
